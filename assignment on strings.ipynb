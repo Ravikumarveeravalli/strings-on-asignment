{
 "cells": [
  {
   "cell_type": "code",
   "execution_count": 2,
   "id": "38a925c0",
   "metadata": {},
   "outputs": [
    {
     "data": {
      "text/plain": [
       "'ravikumar'"
      ]
     },
     "execution_count": 2,
     "metadata": {},
     "output_type": "execute_result"
    }
   ],
   "source": [
    "# write a python program to convert a sring to lower case\n",
    "\n",
    "x=\"RAVIKUMAR\"\n",
    "x.lower()"
   ]
  },
  {
   "cell_type": "code",
   "execution_count": 12,
   "id": "eeef9a05",
   "metadata": {},
   "outputs": [
    {
     "name": "stdout",
     "output_type": "stream",
     "text": [
      "RAVIKUMAR\n",
      "rAvIkUmAr\n"
     ]
    }
   ],
   "source": [
    "# write a python program to convert only even index charecters to lower case\n",
    "\n",
    "str1=input()\n",
    "x=\"\"\n",
    "for char in range(len(str1)):\n",
    "    if char%2==0:\n",
    "        x=x+str1[char].lower()\n",
    "    else:\n",
    "        x=x+str1[char].upper()\n",
    "print(x)"
   ]
  },
  {
   "cell_type": "code",
   "execution_count": 13,
   "id": "83a3d18b",
   "metadata": {},
   "outputs": [
    {
     "name": "stdout",
     "output_type": "stream",
     "text": [
      "PYTHON\n",
      "PyThOn\n"
     ]
    }
   ],
   "source": [
    "# write a program to only odd charecters to lower case\n",
    "\n",
    "str2=input()\n",
    "y=\"\"\n",
    "for char in range(len(str2)):\n",
    "    if char%2==0:\n",
    "        y=y+str2[char].upper()\n",
    "    else:\n",
    "        y=y+str2[char].lower()\n",
    "print(y)"
   ]
  },
  {
   "cell_type": "code",
   "execution_count": 14,
   "id": "5acbec8c",
   "metadata": {},
   "outputs": [
    {
     "name": "stdout",
     "output_type": "stream",
     "text": [
      "RAVIKUMAR\n",
      "rAvIkUmAr\n"
     ]
    }
   ],
   "source": [
    "# 4.write a program to convert only odd index charecter to upper case.\n",
    "\n",
    "str3=input()\n",
    "z=\"\"\n",
    "for char in range(len(str3)):\n",
    "    if char%2==0:\n",
    "        z=z+str3[char].lower()\n",
    "    else:\n",
    "        z=z+str3[char].upper()\n",
    "print(z)"
   ]
  },
  {
   "cell_type": "code",
   "execution_count": 2,
   "id": "b4224390",
   "metadata": {},
   "outputs": [
    {
     "name": "stdout",
     "output_type": "stream",
     "text": [
      "RAVIKUMAR\n",
      "RaViKuMaR\n"
     ]
    }
   ],
   "source": [
    "# 5.write a program to convert only even index charecter to upper case.\n",
    "\n",
    "str4=input()\n",
    "x=\"\"\n",
    "for char in range(len(str4)):\n",
    "    if char%2==0:\n",
    "        x=x+str4[char].upper()\n",
    "    else:\n",
    "        x=x+str4[char].lower()\n",
    "print(x)\n",
    "        "
   ]
  },
  {
   "cell_type": "code",
   "execution_count": 3,
   "id": "43497028",
   "metadata": {},
   "outputs": [
    {
     "name": "stdout",
     "output_type": "stream",
     "text": [
      "enter your nameravi kumar\n",
      "Enter your gender male\n",
      "Enter your age 22\n",
      "Enter your phone no 9391091717\n",
      "Enter your father_name lakshman rao\n",
      "Enter your mother_name lakshmi tulasi\n"
     ]
    },
    {
     "data": {
      "text/plain": [
       "'my name is ravi kumar my gender is male my age is 22 my phoneno is 9391091717 my father_name is lakshman rao my mother_name is lakshmi tulasi'"
      ]
     },
     "execution_count": 3,
     "metadata": {},
     "output_type": "execute_result"
    }
   ],
   "source": [
    "# 6.write a python program to where you have dofferent variable which contains your name,sex,age,phone no,father name and  mother naname=input(\"Enter your name \")\n",
    "name=input(\"enter your name\")\n",
    "gender=input(\"Enter your gender \")\n",
    "age=input(\"Enter your age \")\n",
    "phoneno=input(\"Enter your phone no \")\n",
    "father_name=input(\"Enter your father_name \")\n",
    "mother_name=input(\"Enter your mother_name \")\n",
    "bio_data= \"my name is {} my gender is {} my age is {} my phoneno is {} my father_name is {} my mother_name is {}\"\n",
    "bio_data.format(name,gender,age,phoneno,father_name,mother_name)"
   ]
  },
  {
   "cell_type": "markdown",
   "id": "4dc32301",
   "metadata": {},
   "source": []
  },
  {
   "cell_type": "raw",
   "id": "67491e61",
   "metadata": {},
   "source": []
  },
  {
   "cell_type": "code",
   "execution_count": 5,
   "id": "090381da",
   "metadata": {},
   "outputs": [
    {
     "name": "stdout",
     "output_type": "stream",
     "text": [
      "enter your list@ewdsr@12@ftsf@\n"
     ]
    },
    {
     "data": {
      "text/plain": [
       "4"
      ]
     },
     "execution_count": 5,
     "metadata": {},
     "output_type": "execute_result"
    }
   ],
   "source": [
    "# 7.write a program to count how many times\"@\" occured\n",
    "\n",
    "l=input(\"enter your list\")\n",
    "l.count(\"@\")"
   ]
  },
  {
   "cell_type": "code",
   "execution_count": 6,
   "id": "296290d1",
   "metadata": {},
   "outputs": [
    {
     "name": "stdout",
     "output_type": "stream",
     "text": [
      "name1 name2 name3\n"
     ]
    }
   ],
   "source": [
    "# 8.write a programm to get only names from the string \"name1.@gmail.com,name2.@gmail.com,name3.@gmail.com\" output-name1,name2,name3\n",
    "\n",
    "s1=\"name1.@gmail.com,name2.@gmail.com,name3.@gmail.com\" \n",
    "s1=s1.split( \".\")\n",
    "print(s1[0],s1[2][4:],s1[4][4:])"
   ]
  },
  {
   "cell_type": "code",
   "execution_count": 1,
   "id": "3cd0a22e",
   "metadata": {},
   "outputs": [
    {
     "name": "stdout",
     "output_type": "stream",
     "text": [
      "ravikumar\n"
     ]
    },
    {
     "data": {
      "text/plain": [
       "'iku'"
      ]
     },
     "execution_count": 1,
     "metadata": {},
     "output_type": "execute_result"
    }
   ],
   "source": [
    "# 9.Given a string of odd lenthg greater that 9,return a new string made of the middle three characters of a given\n",
    "\n",
    "name=input(\"\")\n",
    "b=int(len(name)/2)\n",
    "name[b-1:b+2]"
   ]
  },
  {
   "cell_type": "code",
   "execution_count": 1,
   "id": "f5d0c95b",
   "metadata": {},
   "outputs": [
    {
     "name": "stdout",
     "output_type": "stream",
     "text": [
      "ravi\n",
      "kumar\n",
      "rakumarvi\n"
     ]
    }
   ],
   "source": [
    "# 10.write a python program to insert a 2 string in middle of 1 string\n",
    "\n",
    "str1=input(\"\")\n",
    "str2=input(\"\")\n",
    "print(str1[:len(str1)//2:]+str2+str1[len(str1)//2:])"
   ]
  },
  {
   "cell_type": "code",
   "execution_count": 1,
   "id": "0884fa57",
   "metadata": {},
   "outputs": [
    {
     "name": "stdout",
     "output_type": "stream",
     "text": [
      "abcdefghijklmnopqrstuvwxyz\n",
      "bcdfghjklmnpqrstvwxyz\n"
     ]
    }
   ],
   "source": [
    "# 11.write aprogram to remove vowels from the entire alphabets\n",
    "\n",
    "vowels=[\"a\",\"e\",\"i\",\"o\",\"u\",\"A\",\"E\",\"I\",\"O\",\"U\"]\n",
    "name=input()\n",
    "a=\"\"\n",
    "for k in name:\n",
    "    if k not in vowels:\n",
    "        a+=k\n",
    "print(a)\n"
   ]
  },
  {
   "cell_type": "code",
   "execution_count": null,
   "id": "407d36df",
   "metadata": {},
   "outputs": [],
   "source": []
  },
  {
   "cell_type": "code",
   "execution_count": null,
   "id": "fd7bd3ce",
   "metadata": {},
   "outputs": [],
   "source": []
  }
 ],
 "metadata": {
  "kernelspec": {
   "display_name": "Python 3 (ipykernel)",
   "language": "python",
   "name": "python3"
  },
  "language_info": {
   "codemirror_mode": {
    "name": "ipython",
    "version": 3
   },
   "file_extension": ".py",
   "mimetype": "text/x-python",
   "name": "python",
   "nbconvert_exporter": "python",
   "pygments_lexer": "ipython3",
   "version": "3.9.13"
  }
 },
 "nbformat": 4,
 "nbformat_minor": 5
}
